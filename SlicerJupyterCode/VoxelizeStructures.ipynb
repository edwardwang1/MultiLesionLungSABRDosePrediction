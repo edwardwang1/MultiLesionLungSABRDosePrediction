{
 "cells": [
  {
   "cell_type": "code",
   "execution_count": 1,
   "id": "0c813dbc",
   "metadata": {
    "ExecuteTime": {
     "end_time": "2023-03-16T13:59:10.552437Z",
     "start_time": "2023-03-16T13:59:10.535484Z"
    },
    "execution": {
     "iopub.execute_input": "2024-07-09T17:42:34.970230Z",
     "iopub.status.busy": "2024-07-09T17:42:34.970230Z",
     "iopub.status.idle": "2024-07-09T17:42:41.207804Z",
     "shell.execute_reply": "2024-07-09T17:42:41.207804Z",
     "shell.execute_reply.started": "2024-07-09T17:42:34.970230Z"
    },
    "tags": []
   },
   "outputs": [],
   "source": [
    "from rt_utils import RTStructBuilder\n",
    "import numpy as np\n",
    "import os\n",
    "import pandas as pd\n",
    "import sys\n",
    "sys.path.append('../')\n",
    "from config import load_config"
   ]
  },
  {
   "cell_type": "code",
   "execution_count": 10,
   "id": "b0b63704",
   "metadata": {
    "ExecuteTime": {
     "end_time": "2023-03-16T14:51:30.215286Z",
     "start_time": "2023-03-16T14:51:30.205315Z"
    },
    "execution": {
     "iopub.execute_input": "2024-07-09T17:49:38.432478Z",
     "iopub.status.busy": "2024-07-09T17:49:38.432478Z",
     "iopub.status.idle": "2024-07-09T17:49:38.456413Z",
     "shell.execute_reply": "2024-07-09T17:49:38.455415Z",
     "shell.execute_reply.started": "2024-07-09T17:49:38.432478Z"
    },
    "tags": []
   },
   "outputs": [],
   "source": [
    "config = load_config(os.path.abspath(\"../config.yml\"))\n",
    "df_path = config.DATA_FILE\n",
    "DICOM_path = config.DICOM_PATH\n",
    "voxelized_save_dir = config.VOXELIZED_SAVE_PATH\n",
    "\n",
    "all_contours = [\n",
    "    config.LUNG_LEFT,\n",
    "    config.LUNG_RIGHT,\n",
    "    config.BODY,\n",
    "    config.HEART,\n",
    "    config.ESOPHAGUS,\n",
    "    config.AORTA,\n",
    "    config.PULMONARYBRONCHIALTREE,\n",
    "    config.CHESTWALL,\n",
    "    config.GREATVESSELS,\n",
    "    config.SPINALCANAL,\n",
    "    config.TRACHEA,\n",
    "    config.VENACAVA_INF,\n",
    "    config.VENACAVA_SUP\n",
    "]"
   ]
  },
  {
   "cell_type": "code",
   "execution_count": 11,
   "id": "97d962d3",
   "metadata": {
    "ExecuteTime": {
     "end_time": "2023-03-16T15:47:46.654503Z",
     "start_time": "2023-03-16T15:45:55.085098Z"
    },
    "execution": {
     "iopub.execute_input": "2024-07-09T17:49:39.039853Z",
     "iopub.status.busy": "2024-07-09T17:49:39.039853Z",
     "iopub.status.idle": "2024-07-09T17:50:35.717139Z",
     "shell.execute_reply": "2024-07-09T17:50:35.717139Z",
     "shell.execute_reply.started": "2024-07-09T17:49:39.039853Z"
    },
    "tags": []
   },
   "outputs": [
    {
     "name": "stdout",
     "output_type": "stream",
     "text": [
      "YONSEI_0001\n",
      "end\n"
     ]
    }
   ],
   "source": [
    "df = pd.read_csv(df_path)\n",
    "\n",
    "for i in range(df.shape[0]):\n",
    "    completeFlag = True\n",
    "    patient = df.iloc[i][\"Patient\"]\n",
    "    rt_struct_folders = []\n",
    "    ptvs = df.iloc[i][\"PTVs\"].split(\",\")\n",
    "    igtvs = df.iloc[i][\"IGTVs\"].split(\",\")\n",
    "    print(patient)\n",
    "\n",
    "    for p in ptvs:\n",
    "        all_contours.append(p)\n",
    "    for i in igtvs:\n",
    "        all_contours.append(i)\n",
    "\n",
    "    patient_path = os.path.join(DICOM_path, patient)\n",
    "    dicom_series_path = os.path.join(patient_path, patient_path)\n",
    "\n",
    "    all_folders = os.listdir(dicom_series_path)\n",
    "    for a in all_folders:\n",
    "        if \"rts\" in a.lower():\n",
    "                rt_struct_folders.append(a)\n",
    "\n",
    "    for r in rt_struct_folders:\n",
    "        rt_struct_path = os.path.join(dicom_series_path, r, os.listdir(os.path.join(dicom_series_path, r))[0])\n",
    "\n",
    "        rtstruct = RTStructBuilder.create_from(\n",
    "                  dicom_series_path=dicom_series_path, \n",
    "                  rt_struct_path=rt_struct_path\n",
    "                )\n",
    "        existing_structs = rtstruct.get_roi_names()\n",
    "\n",
    "        for s in all_contours:\n",
    "            if s not in existing_structs and s + \"~\" not in existing_structs:\n",
    "                print(\"!!!!!Missing \" + s)\n",
    "                completeFlag = False\n",
    "        #if completeFlag:\n",
    "            # print(\"All Structures Present\")\n",
    "        if not completeFlag:\n",
    "            print(\"Missing structure(s)\")\n",
    "\n",
    "        #Convert and save\n",
    "        save_dir = os.path.join(voxelized_save_dir, patient)\n",
    "        os.makedirs(os.path.join(save_dir), exist_ok=True)\n",
    "        for_save_dict = {}\n",
    "        for name in existing_structs:\n",
    "            if \"iso\" not in name.lower():\n",
    "                try:\n",
    "                    mask_3d = rtstruct.get_roi_mask_by_name(name)\n",
    "                    if name[-1] == \"~\":\n",
    "                        name = name[:-1]\n",
    "                    for_save_dict[name] = mask_3d\n",
    "                    \n",
    "                    #np.save(os.path.join(save_dir, name + \".npy\"), mask_3d)\n",
    "                except:\n",
    "                    print(\"!!!!!!!!!Error on \", name)\n",
    "                    \n",
    "        np.savez_compressed(os.path.join(save_dir,  \"VoxelizedStructs.npz\"), **for_save_dict)\n",
    "        \n",
    "print(\"end\")"
   ]
  },
  {
   "cell_type": "code",
   "execution_count": null,
   "id": "c8428e9a-3ab5-4c5b-a8fe-41f715cf6f9c",
   "metadata": {},
   "outputs": [],
   "source": []
  }
 ],
 "metadata": {
  "kernelspec": {
   "display_name": "Python 3 (ipykernel)",
   "language": "python",
   "name": "python3"
  },
  "language_info": {
   "codemirror_mode": {
    "name": "ipython",
    "version": 3
   },
   "file_extension": ".py",
   "mimetype": "text/x-python",
   "name": "python",
   "nbconvert_exporter": "python",
   "pygments_lexer": "ipython3",
   "version": "3.9.13"
  }
 },
 "nbformat": 4,
 "nbformat_minor": 5
}
