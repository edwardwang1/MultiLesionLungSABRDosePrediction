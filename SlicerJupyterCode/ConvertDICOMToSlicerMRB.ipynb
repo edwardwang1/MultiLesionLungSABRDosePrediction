{
 "cells": [
  {
   "cell_type": "code",
   "execution_count": 16,
   "id": "2e089acc",
   "metadata": {
    "ExecuteTime": {
     "end_time": "2023-04-09T21:01:52.671990Z",
     "start_time": "2023-04-09T21:01:52.669705Z"
    },
    "execution": {
     "iopub.execute_input": "2024-07-23T15:16:43.834457Z",
     "iopub.status.busy": "2024-07-23T15:16:43.834339Z",
     "iopub.status.idle": "2024-07-23T15:16:43.836569Z",
     "shell.execute_reply": "2024-07-23T15:16:43.836424Z",
     "shell.execute_reply.started": "2024-07-23T15:16:43.834437Z"
    },
    "tags": []
   },
   "outputs": [],
   "source": [
    "import slicer, vtk\n",
    "import numpy as np\n",
    "import vtk.util.numpy_support\n",
    "from scipy import optimize\n",
    "from DICOMLib import DICOMUtils\n",
    "import os\n",
    "import pandas as pd\n",
    "import sys\n",
    "sys.path.append('../')\n",
    "from config import load_config\n"
   ]
  },
  {
   "cell_type": "code",
   "execution_count": 17,
   "id": "61e135bc-87da-4abb-b0a6-36d36fb9b6f8",
   "metadata": {
    "execution": {
     "iopub.execute_input": "2024-07-23T15:16:44.294225Z",
     "iopub.status.busy": "2024-07-23T15:16:44.294138Z",
     "iopub.status.idle": "2024-07-23T15:16:44.307144Z",
     "shell.execute_reply": "2024-07-23T15:16:44.307000Z",
     "shell.execute_reply.started": "2024-07-23T15:16:44.294205Z"
    },
    "tags": []
   },
   "outputs": [],
   "source": [
    "config = load_config(os.path.abspath(\"../config.yml\"))\n",
    "df_path = config.DATA_FILE\n",
    "DICOM_path = config.DICOM_PATH\n",
    "voxelized_save_dir = config.VOXELIZED_SAVE_PATH\n",
    "mrb_save_dir = config.MRB_SAVE_PATH\n",
    "os.makedirs(os.path.join(mrb_save_dir), exist_ok=True)"
   ]
  },
  {
   "cell_type": "code",
   "execution_count": 18,
   "id": "6d703e6e",
   "metadata": {
    "ExecuteTime": {
     "end_time": "2023-04-09T21:01:54.995950Z",
     "start_time": "2023-04-09T21:01:54.989851Z"
    },
    "execution": {
     "iopub.execute_input": "2024-07-23T15:16:48.784115Z",
     "iopub.status.busy": "2024-07-23T15:16:48.784038Z",
     "iopub.status.idle": "2024-07-23T15:16:48.791019Z",
     "shell.execute_reply": "2024-07-23T15:16:48.790915Z",
     "shell.execute_reply.started": "2024-07-23T15:16:48.784101Z"
    },
    "tags": []
   },
   "outputs": [],
   "source": [
    "def load_DICOM(p):\n",
    "    slicer.mrmlScene.Clear(0)\n",
    "\n",
    "\n",
    "    dicomDataDir = os.path.join(DICOM_path, p)\n",
    "\n",
    "    loadedNodeIDs = []  # this list will contain the list of all loaded node IDs\n",
    "\n",
    "    with DICOMUtils.TemporaryDICOMDatabase() as db:\n",
    "        DICOMUtils.importDicom(dicomDataDir, db)\n",
    "        patientUIDs = db.patients()\n",
    "        for patientUID in patientUIDs:\n",
    "            loadedNodeIDs.extend(DICOMUtils.loadPatientByUID(patientUID))\n",
    "    \n",
    "def deleteBeams():\n",
    "    i = 0\n",
    "    while len(slicer.util.getNodesByClass(\"vtkMRMLSequenceNode\")) > 0:\n",
    "        i += 1\n",
    "        toDeletes = slicer.util.getNodesByClass(\"vtkMRMLSequenceNode\")\n",
    "        for td in toDeletes:\n",
    "            slicer.mrmlScene.RemoveNode(td)\n",
    "        if i > 10:\n",
    "            break\n",
    "\n",
    "    while len(slicer.util.getNodesByClass(\"vtkMRMLSequenceBrowserNode\")) > 0:\n",
    "        i += 1\n",
    "        toDeletes = slicer.util.getNodesByClass(\"vtkMRMLSequenceBrowserNode\")\n",
    "        for td in toDeletes:\n",
    "            slicer.mrmlScene.RemoveNode(td)\n",
    "        if i > 10:\n",
    "            break\n",
    "\n",
    "    nodes = slicer.util.getNodes()\n",
    "    to_remove = []\n",
    "    for key in nodes.keys():\n",
    "        #if \"[TREATMENT]\" in key:\n",
    "        #if \"cw\" in key or \"CW\" in key or (len(key) == 12 and key[4] == \"_\") or \"BoundaryAndPosition\" in key or \"BeamTransform\" in key or \"[TREATMENT]\" in key:\n",
    "        #if \"cw\" in key or \"CW\" in key:\n",
    "        if \"BeamTransform\" in key:\n",
    "        #if \"cw\" in key or \"CW\" in key or (len(key) == 12 and key[4] == \"_\"):\n",
    "            #print(key)\n",
    "            to_remove.append(nodes[key])\n",
    "            if type(nodes[key]).__name__ == \"vtkMRMLRTBeamNode\":\n",
    "                if nodes[key].GetModelDisplayNode() is not None:\n",
    "                    to_remove.append(nodes[key].GetModelDisplayNode())\n",
    "                if nodes[key].GetParentTransformNode() is not None:\n",
    "                    to_remove.append(nodes[key].GetParentTransformNode())\n",
    "                if nodes[key].GetStorageNode() is not None:\n",
    "                    to_remove.append(nodes[key].GetStorageNode())\n",
    "            if type(nodes[key]).__name__ == \"vtkMRMLTableNode\":\n",
    "                if nodes[key].GetStorageNode() is not None:\n",
    "                    to_remove.append(nodes[key].GetStorageNode())\n",
    "\n",
    "\n",
    "    for n in to_remove:\n",
    "        slicer.mrmlScene.RemoveNode(n)\n",
    "\n",
    "\n",
    "    nodes = slicer.util.getNodes()\n",
    "    to_remove = []\n",
    "    for key in nodes.keys():\n",
    "        #if \"[TREATMENT]\" in key:\n",
    "        if \"cw\" in key or \"CW\" in key or \"SA \" in key or (len(key) == 12 and key[4] == \"_\") or \"BoundaryAndPosition\" in key or \"BeamTransform\" in key or \"[TREATMENT]\" in key:\n",
    "        #if \"cw\" in key or \"CW\" in key:\n",
    "        #if \"BeamTransform\" in key:\n",
    "        #if \"cw\" in key or \"CW\" in key or (len(key) == 12 and key[4] == \"_\"):\n",
    "            #print(key)\n",
    "            to_remove.append(nodes[key])\n",
    "            if type(nodes[key]).__name__ == \"vtkMRMLRTBeamNode\":\n",
    "                if nodes[key].GetModelDisplayNode() is not None:\n",
    "                    to_remove.append(nodes[key].GetModelDisplayNode())\n",
    "                if nodes[key].GetParentTransformNode() is not None:\n",
    "                    to_remove.append(nodes[key].GetParentTransformNode())\n",
    "                if nodes[key].GetStorageNode() is not None:\n",
    "                    to_remove.append(nodes[key].GetStorageNode())\n",
    "            if type(nodes[key]).__name__ == \"vtkMRMLTableNode\":\n",
    "                if nodes[key].GetStorageNode() is not None:\n",
    "                    to_remove.append(nodes[key].GetStorageNode())\n",
    "\n",
    "    #break\n",
    "    #print(to_remove)\n",
    "    #break\n",
    "\n",
    "    for n in to_remove:\n",
    "        slicer.mrmlScene.RemoveNode(n)\n",
    "        \n",
    "    while len(slicer.util.getNodesByClass(\"vtkMRMLRTPlanNode\")) > 0:\n",
    "        i += 1\n",
    "        toDeletes = slicer.util.getNodesByClass(\"vtkMRMLRTPlanNode\")\n",
    "        for td in toDeletes:\n",
    "            slicer.mrmlScene.RemoveNode(td)\n",
    "        if i > 10:\n",
    "            break\n"
   ]
  },
  {
   "cell_type": "code",
   "execution_count": 19,
   "id": "71f4291e",
   "metadata": {
    "ExecuteTime": {
     "end_time": "2023-04-09T21:01:55.867833Z",
     "start_time": "2023-04-09T21:01:55.860387Z"
    },
    "execution": {
     "iopub.execute_input": "2024-07-23T15:16:55.914355Z",
     "iopub.status.busy": "2024-07-23T15:16:55.914259Z",
     "iopub.status.idle": "2024-07-23T15:16:55.932337Z",
     "shell.execute_reply": "2024-07-23T15:16:55.932219Z",
     "shell.execute_reply.started": "2024-07-23T15:16:55.914332Z"
    },
    "tags": []
   },
   "outputs": [],
   "source": [
    "def copySegment(inputId, outputId, segmentationNode):\n",
    "    segmentEditorWidget = slicer.qMRMLSegmentEditorWidget()\n",
    "    segmentEditorWidget.setMRMLScene(slicer.mrmlScene)\n",
    "    segmentEditorNode = slicer.mrmlScene.AddNewNodeByClass(\"vtkMRMLSegmentEditorNode\")\n",
    "    segmentEditorWidget.setMRMLSegmentEditorNode(segmentEditorNode)\n",
    "\n",
    "    segmentEditorWidget.setSegmentationNode(segmentationNode)\n",
    "    volumeNode = slicer.util.getNodesByClass(\"vtkMRMLVolumeNode\")[0]\n",
    "    segmentEditorWidget.setMasterVolumeNode(volumeNode)\n",
    "    # Set overwrite mode: 0/1/2 -> overwrite all/visible/none\n",
    "    segmentEditorNode.SetOverwriteMode(2) # i.e. \"allow overlap\" in UI\n",
    "    # Get the segment IDs\n",
    "    segmentationNode.AddSegmentFromClosedSurfaceRepresentation(vtk.vtkPolyData(), outputId)\n",
    "    segid_tgt = segmentationNode.GetSegmentation().GetSegmentIdBySegmentName(outputId)\n",
    "    segid_src = segmentationNode.GetSegmentation().GetSegmentIdBySegmentName(inputId)\n",
    "    \n",
    "    segmentEditorNode.SetSelectedSegmentID(segid_tgt)\n",
    "    segmentEditorWidget.setActiveEffectByName(\"Logical operators\")\n",
    "    effect = segmentEditorWidget.activeEffect()\n",
    "    effect.setParameter(\"Operation\",\"COPY\") # change the operation here\n",
    "    effect.setParameter(\"ModifierSegmentID\",segid_src)\n",
    "    effect.self().onApply()\n",
    "    \n",
    "    slicer.mrmlScene.RemoveNode(segmentEditorNode)\n",
    "    \n",
    "def combineSegments(inputId, outputId, segmentationNode):\n",
    "    segmentEditorWidget = slicer.qMRMLSegmentEditorWidget()\n",
    "    segmentEditorWidget.setMRMLScene(slicer.mrmlScene)\n",
    "    segmentEditorNode = slicer.mrmlScene.AddNewNodeByClass(\"vtkMRMLSegmentEditorNode\")\n",
    "    segmentEditorWidget.setMRMLSegmentEditorNode(segmentEditorNode)\n",
    "    \n",
    "    segmentEditorWidget.setSegmentationNode(segmentationNode)\n",
    "    volumeNode = slicer.util.getNodesByClass(\"vtkMRMLVolumeNode\")[0]\n",
    "    segmentEditorWidget.setMasterVolumeNode(volumeNode)\n",
    "    # Set overwrite mode: 0/1/2 -> overwrite all/visible/none\n",
    "    segmentEditorNode.SetOverwriteMode(2) # i.e. \"allow overlap\" in UI\n",
    "    # Get the segment IDs\n",
    "    segid_tgt = segmentationNode.GetSegmentation().GetSegmentIdBySegmentName(outputId)\n",
    "    segid_src = segmentationNode.GetSegmentation().GetSegmentIdBySegmentName(inputId)\n",
    "    \n",
    "    segmentEditorNode.SetSelectedSegmentID(segid_tgt)\n",
    "    segmentEditorWidget.setActiveEffectByName(\"Logical operators\")\n",
    "    effect = segmentEditorWidget.activeEffect()\n",
    "    effect.setParameter(\"Operation\",\"UNION\") # change the operation here\n",
    "    effect.setParameter(\"ModifierSegmentID\",segid_src)\n",
    "    effect.self().onApply()\n",
    "    \n",
    "    slicer.mrmlScene.RemoveNode(segmentEditorNode)\n",
    "    \n",
    "def processData(p, PTVs, IGTVs):\n",
    "    #Deleted Unnamed Series if exists\n",
    "    print(\"Deleting Unnamed series\")\n",
    "    scalar_volumes = slicer.util.getNodesByClass(\"vtkMRMLScalarVolumeNode\")\n",
    "    nodes_to_remove = []\n",
    "    for i in range(len(scalar_volumes)):\n",
    "        node  = slicer.util.getNodesByClass(\"vtkMRMLScalarVolumeNode\")[i]\n",
    "        if \"Unnamed\" in node.GetName():\n",
    "            nodes_to_remove.append(node)\n",
    "\n",
    "    #Deleting volume node if not right size\n",
    "    volumes = slicer.util.getNodesByClass(\"vtkMRMLVolumeNode\")\n",
    "    nodes_to_remove = []\n",
    "    for i in range(len(scalar_volumes)):\n",
    "        node = slicer.util.getNodesByClass(\"vtkMRMLVolumeNode\")[i]\n",
    "        if slicer.util.arrayFromVolume(node).shape[1] != 512 or slicer.util.arrayFromVolume(node).shape[0] <= 50:\n",
    "            if not \"RTDOSE\" in node.GetName():\n",
    "                nodes_to_remove.append(node)\n",
    "\n",
    "    for n in nodes_to_remove:\n",
    "        slicer.mrmlScene.RemoveNode(n)\n",
    "\n",
    "\n",
    "    #Deleting existing RTStructs\n",
    "    segNodes = slicer.util.getNodesByClass(\"vtkMRMLSegmentationNode\")\n",
    "    for s in segNodes:\n",
    "        slicer.mrmlScene.RemoveNode(s)\n",
    "\n",
    "    referenceVolumeNode = slicer.util.getNodesByClass(\"vtkMRMLVolumeNode\")[0]\n",
    "    \n",
    "    print(\"Removing beam nodes\")\n",
    "    deleteBeams()\n",
    "  \n",
    "    newSegmentationNode = slicer.mrmlScene.AddNewNodeByClass(\"vtkMRMLSegmentationNode\")\n",
    "    newSegmentationNode.CreateDefaultDisplayNodes()\n",
    "    newSegmentation = newSegmentationNode.GetSegmentation()\n",
    "    \n",
    "    print(\"Loading RT structs\")\n",
    "    \n",
    "    ##Loading RT label maps for RT structs\n",
    "    voxelized_structs = np.load(os.path.join(voxelized_save_dir, p, \"VoxelizedStructs.npz\"))\n",
    "    all_structs = voxelized_structs.files\n",
    "    for struct in all_structs:\n",
    "        struct_arr = voxelized_structs[struct]\n",
    "\n",
    "        if struct == config.BODY:\n",
    "            struct_arr = ~struct_arr\n",
    "        \n",
    "        struct_arr = struct_arr[:, :, 1:]\n",
    "        struct_arr = np.moveaxis(struct_arr, [2,0,1], [0,1,2])\n",
    "\n",
    "        labelmap_volume_Node = slicer.mrmlScene.AddNewNodeByClass(\"vtkMRMLLabelMapVolumeNode\")\n",
    "        labelmap_volume_Node.CopyOrientation(referenceVolumeNode)\n",
    "        labelmap_volume_Node.SetSpacing(referenceVolumeNode.GetSpacing())\n",
    "        labelmap_volume_Node.CreateDefaultDisplayNodes()\n",
    "\n",
    "        slicer.util.updateVolumeFromArray(labelmap_volume_Node, struct_arr.astype(\"int\")[::1])\n",
    "        \n",
    "        slicer.modules.segmentations.logic().ImportLabelmapToSegmentationNode(labelmap_volume_Node, newSegmentationNode)\n",
    "        numberOfSegments = newSegmentation.GetNumberOfSegments()\n",
    "        current_segmentID = newSegmentation.GetNthSegmentID(numberOfSegments - 1)\n",
    "        copySegment(current_segmentID, struct, newSegmentationNode)\n",
    "        newSegmentationNode.RemoveSegment(current_segmentID)\n",
    "        \n",
    "        #Do again for aorta\n",
    "        if struct == config.AORTA:\n",
    "            slicer.modules.segmentations.logic().ImportLabelmapToSegmentationNode(labelmap_volume_Node, newSegmentationNode)\n",
    "            numberOfSegments = newSegmentation.GetNumberOfSegments()\n",
    "            current_segmentID = newSegmentation.GetNthSegmentID(numberOfSegments - 1)\n",
    "            copySegment(current_segmentID, \"GV_Combined\", newSegmentationNode)\n",
    "            newSegmentationNode.RemoveSegment(current_segmentID)\n",
    "        \n",
    "        #newSegmentation.GetNthSegment(numberOfSegments - 1).SetName(struct[:-4])\n",
    "        \n",
    "        slicer.mrmlScene.RemoveNode(labelmap_volume_Node)\n",
    "        \n",
    "    #Creating Combination of GreatVessels\n",
    "    #print(\"Combining Great Vessels\")\n",
    "    \n",
    "    for temp_struct in [config.VENACAVA_INF, config.VENACAVA_SUP, config.GREATVESSELS]:\n",
    "        combineSegments(temp_struct, \"GV_Combined\", newSegmentationNode)\n"
   ]
  },
  {
   "cell_type": "code",
   "execution_count": 21,
   "id": "e06a005b",
   "metadata": {
    "ExecuteTime": {
     "end_time": "2023-04-09T21:05:32.116990Z",
     "start_time": "2023-04-09T21:02:38.159556Z"
    },
    "execution": {
     "iopub.execute_input": "2024-07-23T15:20:21.347690Z",
     "iopub.status.busy": "2024-07-23T15:20:21.346830Z",
     "iopub.status.idle": "2024-07-23T15:20:54.759523Z",
     "shell.execute_reply": "2024-07-23T15:20:54.759367Z",
     "shell.execute_reply.started": "2024-07-23T15:20:21.34754Z"
    },
    "tags": []
   },
   "outputs": [
    {
     "name": "stdout",
     "output_type": "stream",
     "text": [
      "Done Processing\n",
      "end\n"
     ]
    }
   ],
   "source": [
    "df = pd.read_csv(df_path)\n",
    "for i in range(df.shape[0]):\n",
    "        p = df.iloc[i][\"Patient\"]\n",
    "\n",
    "        slicer.mrmlScene.Clear(0)\n",
    "\n",
    "        try:\n",
    "            num_lesions = df.iloc[i][\"Number of Lesions\"]\n",
    "        except:\n",
    "            num_lesions = 1\n",
    "        PTVs = df.iloc[i][\"PTVs\"].split(\",\")\n",
    "        IGTVs = df.iloc[i][\"IGTVs\"].split(\",\")\n",
    "        try:\n",
    "            assert num_lesions == len(PTVs) == len(IGTVs)\n",
    "        except:\n",
    "            print(\"assertion fail\")\n",
    "\n",
    "        load_DICOM(p)\n",
    "\n",
    "        # processData(p, PTVs, IGTVs)\n",
    "        print(\"Done Processing\")\n",
    "        #Exporting\n",
    "        # sceneSaveFilename = os.path.join(mrb_save_dir, p + \".mrb\")\n",
    "        # if slicer.util.saveScene(sceneSaveFilename):\n",
    "        #     print(\"Scene saved to: {0}\".format(sceneSaveFilename))\n",
    "        #     #logging.info(\"Scene saved to: {0}\".format(sceneSaveFilename))\n",
    "        # else:\n",
    "        #     #logging.error(\"Scene saving failed\")\n",
    "        #     print(\"Scene saving failed\")\n",
    "\n",
    "print(\"end\")"
   ]
  },
  {
   "cell_type": "code",
   "execution_count": null,
   "id": "5bd60659-0c61-49a4-a8c1-c93eee9f76a8",
   "metadata": {},
   "outputs": [],
   "source": [
    "newSegmentationNode = slicer.mrmlScene.AddNewNodeByClass(\"vtkMRMLSegmentationNode\")\n",
    "newSegmentationNode.CreateDefaultDisplayNodes()\n",
    "newSegmentation = newSegmentationNode.GetSegmentation()"
   ]
  },
  {
   "cell_type": "code",
   "execution_count": 15,
   "id": "f2991405-0e2c-497f-90ad-3eb4e2acd8da",
   "metadata": {
    "execution": {
     "iopub.execute_input": "2024-07-23T15:16:17.394098Z",
     "iopub.status.busy": "2024-07-23T15:16:17.394021Z",
     "iopub.status.idle": "2024-07-23T15:16:19.391217Z",
     "shell.execute_reply": "2024-07-23T15:16:19.391094Z",
     "shell.execute_reply.started": "2024-07-23T15:16:17.394085Z"
    },
    "tags": []
   },
   "outputs": [],
   "source": [
    "##Loading RT label maps for RT structs\n",
    "voxelized_structs = np.load(os.path.join(voxelized_save_dir, p, \"VoxelizedStructs.npz\"))\n",
    "all_structs = voxelized_structs.files\n",
    "for struct in all_structs:\n",
    "    struct_arr = voxelized_structs[struct]\n",
    "\n",
    "    if struct == config.BODY:\n",
    "        struct_arr = ~struct_arr\n",
    "\n",
    "    struct_arr = struct_arr[:, :, 1:]\n",
    "    struct_arr = np.moveaxis(struct_arr, [2,0,1], [0,1,2])\n",
    "\n",
    "    labelmap_volume_Node = slicer.mrmlScene.AddNewNodeByClass(\"vtkMRMLLabelMapVolumeNode\")\n",
    "    labelmap_volume_Node.CopyOrientation(referenceVolumeNode)\n",
    "    labelmap_volume_Node.SetSpacing(referenceVolumeNode.GetSpacing())\n",
    "    labelmap_volume_Node.CreateDefaultDisplayNodes()\n",
    "\n",
    "    slicer.util.updateVolumeFromArray(labelmap_volume_Node, struct_arr.astype(\"int\")[::1])\n",
    "\n",
    "    slicer.modules.segmentations.logic().ImportLabelmapToSegmentationNode(labelmap_volume_Node, newSegmentationNode)\n",
    "    numberOfSegments = newSegmentation.GetNumberOfSegments()\n",
    "    current_segmentID = newSegmentation.GetNthSegmentID(numberOfSegments - 1)\n",
    "    copySegment(current_segmentID, struct, newSegmentationNode)\n",
    "    newSegmentationNode.RemoveSegment(current_segmentID)\n",
    "\n",
    "    #Do again for aorta\n",
    "    if struct == config.AORTA:\n",
    "        slicer.modules.segmentations.logic().ImportLabelmapToSegmentationNode(labelmap_volume_Node, newSegmentationNode)\n",
    "        numberOfSegments = newSegmentation.GetNumberOfSegments()\n",
    "        current_segmentID = newSegmentation.GetNthSegmentID(numberOfSegments - 1)\n",
    "        copySegment(current_segmentID, \"GV_Combined\", newSegmentationNode)\n",
    "        newSegmentationNode.RemoveSegment(current_segmentID)\n",
    "\n",
    "    #newSegmentation.GetNthSegment(numberOfSegments - 1).SetName(struct[:-4])\n",
    "\n",
    "    slicer.mrmlScene.RemoveNode(labelmap_volume_Node)\n",
    "    break\n",
    "        "
   ]
  },
  {
   "cell_type": "code",
   "execution_count": 25,
   "id": "67f45063-a10d-41f6-8824-7a703bce122a",
   "metadata": {
    "execution": {
     "iopub.execute_input": "2024-07-23T15:27:20.464447Z",
     "iopub.status.busy": "2024-07-23T15:27:20.464370Z",
     "iopub.status.idle": "2024-07-23T15:27:20.472151Z",
     "shell.execute_reply": "2024-07-23T15:27:20.472034Z",
     "shell.execute_reply.started": "2024-07-23T15:27:20.464434Z"
    },
    "tags": []
   },
   "outputs": [],
   "source": [
    "referenceVolumeNode = slicer.util.getNodesByClass(\"vtkMRMLVolumeNode\")[0]"
   ]
  },
  {
   "cell_type": "code",
   "execution_count": 24,
   "id": "3c98b36e-6768-44c1-8477-d4381717dea7",
   "metadata": {
    "execution": {
     "iopub.execute_input": "2024-07-23T15:26:40.164367Z",
     "iopub.status.busy": "2024-07-23T15:26:40.164285Z",
     "iopub.status.idle": "2024-07-23T15:26:40.173096Z",
     "shell.execute_reply": "2024-07-23T15:26:40.172982Z",
     "shell.execute_reply.started": "2024-07-23T15:26:40.164353Z"
    },
    "tags": []
   },
   "outputs": [],
   "source": [
    "testSegmentationNode = slicer.util.getNodesByClass(\"vtkMRMLSegmentationNode\")[1]"
   ]
  },
  {
   "cell_type": "code",
   "execution_count": null,
   "id": "feee4632-074e-4a23-91d4-1c5660263b51",
   "metadata": {},
   "outputs": [],
   "source": []
  },
  {
   "cell_type": "code",
   "execution_count": 22,
   "id": "1638472e-36af-4f39-b61b-eb7989eb627b",
   "metadata": {
    "execution": {
     "iopub.execute_input": "2024-07-23T15:25:58.384133Z",
     "iopub.status.busy": "2024-07-23T15:25:58.384007Z",
     "iopub.status.idle": "2024-07-23T15:25:58.385815Z",
     "shell.execute_reply": "2024-07-23T15:25:58.385678Z",
     "shell.execute_reply.started": "2024-07-23T15:25:58.384110Z"
    }
   },
   "outputs": [],
   "source": [
    "sh = slicer.mrmlScene.GetSubjectHierarchyNode()"
   ]
  },
  {
   "cell_type": "code",
   "execution_count": 28,
   "id": "6beab8ee-3547-49e7-bd80-5350a2d67fd9",
   "metadata": {
    "execution": {
     "iopub.execute_input": "2024-07-23T15:28:15.814421Z",
     "iopub.status.busy": "2024-07-23T15:28:15.814339Z",
     "iopub.status.idle": "2024-07-23T15:28:15.822682Z",
     "shell.execute_reply": "2024-07-23T15:28:15.822566Z",
     "shell.execute_reply.started": "2024-07-23T15:28:15.814406Z"
    },
    "tags": []
   },
   "outputs": [],
   "source": [
    "sh.SetItemParent(sh.GetItemByDataNode(testSegmentationNode),  sh.GetItemParent(sh.GetItemByDataNode(referenceVolumeNode)))"
   ]
  },
  {
   "cell_type": "code",
   "execution_count": null,
   "id": "1d42ffe2-f59f-4648-bc58-850a6da2d007",
   "metadata": {},
   "outputs": [],
   "source": []
  }
 ],
 "metadata": {
  "kernelspec": {
   "display_name": "Slicer 5.2",
   "language": "python",
   "name": "slicer-5.2"
  },
  "language_info": {
   "file_extension": ".py",
   "mimetype": "text/x-python",
   "name": "python",
   "version": "3.9.10"
  }
 },
 "nbformat": 4,
 "nbformat_minor": 5
}
